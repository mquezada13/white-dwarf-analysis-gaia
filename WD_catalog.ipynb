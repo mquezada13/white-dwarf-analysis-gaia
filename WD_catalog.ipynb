{
 "cells": [
  {
   "cell_type": "code",
   "execution_count": null,
   "id": "1c72a3a5",
   "metadata": {},
   "outputs": [],
   "source": [
    "# === White Dwarf Gaia DR3 Analysis ===\n",
    "# Author: Maura E. Ramirez - Quezada (with ChatGPT assistance)\n",
    "# Description: Carga, limpieza y visualización inicial de datos de enanas blancas de Gaia WDR3"
   ]
  },
  {
   "cell_type": "code",
   "execution_count": 1,
   "id": "4793fc4e",
   "metadata": {},
   "outputs": [],
   "source": [
    "%load_ext autoreload\n",
    "%autoreload 2"
   ]
  },
  {
   "cell_type": "code",
   "execution_count": 2,
   "id": "0beb8871",
   "metadata": {},
   "outputs": [],
   "source": [
    "# === 1. Required Libraries ===\n",
    "import pandas as pd\n",
    "import matplotlib.pyplot as plt\n",
    "from astropy.io import fits\n",
    "from astropy.table import Table\n",
    "import numpy as np\n",
    "from scipy.interpolate import LinearNDInterpolator\n",
    "import plot_styles as plts\n",
    "import constants as cs\n",
    "import cooling_curves as cc"
   ]
  },
  {
   "cell_type": "markdown",
   "id": "153bbdc6",
   "metadata": {},
   "source": [
    "## Exploring the Gaia file"
   ]
  },
  {
   "cell_type": "markdown",
   "id": "2cbaf653",
   "metadata": {},
   "source": [
    "### Main data set of WDs"
   ]
  },
  {
   "cell_type": "code",
   "execution_count": 3,
   "id": "9174efc9",
   "metadata": {},
   "outputs": [],
   "source": [
    "# === 2. Path to the FITS file ===\n",
    "fits_path = 'gaiaedr3_wd_main.fits'\n",
    "\n",
    "# === 3. Load data using Astropy ===\n",
    "with fits.open(fits_path) as hdul:\n",
    "    table = Table(hdul[1].data)"
   ]
  },
  {
   "cell_type": "code",
   "execution_count": 4,
   "id": "5bfbc728",
   "metadata": {},
   "outputs": [
    {
     "name": "stdout",
     "output_type": "stream",
     "text": [
      "Data loaded: (1280266, 161)\n",
      "Available columns:\n",
      " ['WDJ_name', 'source_id', 'dr2_source_id', 'designation', 'ra', 'ra_error', 'dec', 'dec_error', 'parallax', 'parallax_error', 'parallax_over_error', 'ZP_correction', 'Pwd', 'density', 'solution_id', 'random_index', 'ref_epoch', 'pm', 'pm_err', 'pmra', 'pmra_error', 'pmdec', 'pmdec_error', 'ra_dec_corr', 'ra_parallax_corr', 'ra_pmra_corr', 'ra_pmdec_corr', 'dec_parallax_corr', 'dec_pmra_corr', 'dec_pmdec_corr', 'parallax_pmra_corr', 'parallax_pmdec_corr', 'pmra_pmdec_corr', 'astrometric_n_obs_al', 'astrometric_n_obs_ac', 'astrometric_n_good_obs_al', 'astrometric_n_bad_obs_al', 'astrometric_gof_al', 'astrometric_chi2_al', 'astrometric_excess_noise', 'astrometric_excess_noise_sig', 'astrometric_params_solved', 'astrometric_primary_flag', 'nu_eff_used_in_astrometry', 'pseudocolour', 'pseudocolour_error', 'ra_pseudocolour_corr', 'dec_pseudocolour_corr', 'parallax_pseudocolour_corr', 'pmra_pseudocolour_corr', 'pmdec_pseudocolour_corr', 'astrometric_matched_transits', 'visibility_periods_used', 'astrometric_sigma5d_max', 'matched_transits', 'new_matched_transits', 'matched_transits_removed', 'ipd_gof_harmonic_amplitude', 'ipd_gof_harmonic_phase', 'ipd_frac_multi_peak', 'ipd_frac_odd_win', 'ruwe', 'scan_direction_strength_k1', 'scan_direction_strength_k2', 'scan_direction_strength_k3', 'scan_direction_strength_k4', 'scan_direction_mean_k1', 'scan_direction_mean_k2', 'scan_direction_mean_k3', 'scan_direction_mean_k4', 'duplicated_source', 'phot_g_n_obs', 'phot_g_mean_flux', 'phot_g_mean_flux_error', 'phot_g_mean_flux_over_error', 'phot_g_mean_mag', 'phot_g_mean_mag_error', 'phot_g_mean_flux_corrected', 'phot_g_mean_mag_corrected', 'phot_g_mean_mag_error_corrected', 'phot_bp_n_obs', 'phot_bp_mean_flux', 'phot_bp_mean_flux_error', 'phot_bp_mean_flux_over_error', 'phot_bp_mean_mag', 'phot_bp_mean_mag_error', 'phot_rp_n_obs', 'phot_rp_mean_flux', 'phot_rp_mean_flux_error', 'phot_rp_mean_flux_over_error', 'phot_rp_mean_mag', 'phot_rp_mean_mag_error', 'phot_bp_n_contaminated_transits', 'phot_bp_n_blended_transits', 'phot_rp_n_contaminated_transits', 'phot_rp_n_blended_transits', 'phot_proc_mode', 'phot_bp_rp_excess_factor', 'phot_bp_rp_excess_factor_corrected', 'absG', 'bp_rp', 'bp_g', 'g_rp', 'dr2_radial_velocity', 'dr2_radial_velocity_error', 'dr2_rv_nb_transits', 'dr2_rv_template_teff', 'dr2_rv_template_logg', 'dr2_rv_template_fe_h', 'l', 'b', 'ecl_lon', 'ecl_lat', 'excess_flux_error', 'bright_N_flag', 'meanAV', 'minAV', 'maxAV', 'flag_ext', 'teff_H', 'eteff_H', 'logg_H', 'elogg_H', 'mass_H', 'emass_H', 'chisq_H', 'teff_He', 'eteff_He', 'logg_He', 'elogg_He', 'mass_He', 'emass_He', 'chisq_He', 'teff_mixed', 'eteff_mixed', 'logg_mixed', 'elogg_mixed', 'mass_mixed', 'emass_mixed', 'chisq_mixed', 'r_med_geo', 'r_lo_geo', 'r_hi_geo', 'r_med_photogeo', 'r_lo_photogeo', 'r_hi_photogeo', 'fidelity_v1', 'SDSS12', 'sdss_clean', 'umag', 'e_umag', 'gmag', 'e_gmag', 'rmag', 'e_rmag', 'imag', 'e_imag', 'zmag', 'e_zmag', 'SDSS_separation', 'SDSS_spec']\n",
      "          source_id  dr2_source_id            ra      ra_error           dec  \\\n",
      "count  1.280266e+06   1.280266e+06  1.280266e+06  1.280266e+06  1.280266e+06   \n",
      "mean   4.626143e+18   4.617052e+18  2.287672e+02  4.953395e-01 -1.969577e+01   \n",
      "std    1.870053e+18   1.903716e+18  8.331061e+01  2.428529e-01  3.611694e+01   \n",
      "min    1.735167e+13  -9.223372e+18  8.763723e-04  9.179016e-03 -8.986765e+01   \n",
      "25%    3.622625e+18   3.616856e+18  1.891446e+02  3.379139e-01 -4.650864e+01   \n",
      "50%    4.972881e+18   4.970008e+18  2.576215e+02  4.790099e-01 -2.806842e+01   \n",
      "75%    6.105927e+18   6.105630e+18  2.841627e+02  6.247732e-01  6.726976e+00   \n",
      "max    6.917521e+18   6.917521e+18  3.599997e+02  3.621010e+00  8.989803e+01   \n",
      "\n",
      "          dec_error      parallax  parallax_error  parallax_over_error  \\\n",
      "count  1.280266e+06  1.280266e+06    1.280266e+06         1.280266e+06   \n",
      "mean   4.506943e-01  2.366609e+00    6.332330e-01         7.679935e+00   \n",
      "std    2.128845e-01  2.360021e+00    3.009518e-01         5.120344e+01   \n",
      "min    8.185626e-03  1.218425e-01    1.108138e-02         1.000001e+00   \n",
      "25%    3.170471e-01  1.195288e+00    4.534898e-01         1.852781e+00   \n",
      "50%    4.358984e-01  1.695171e+00    6.148220e-01         2.567420e+00   \n",
      "75%    5.605652e-01  2.703141e+00    7.819956e-01         4.586710e+00   \n",
      "max    3.060249e+00  3.744896e+02    4.470593e+00         1.353513e+04   \n",
      "\n",
      "       ZP_correction  ...           gmag         e_gmag           rmag  \\\n",
      "count   1.280266e+06  ...  228391.000000  228391.000000  228394.000000   \n",
      "mean   -1.069894e-02  ...      20.266118       0.041193      19.960428   \n",
      "std     6.689444e-03  ...       1.245642       0.311583       0.977331   \n",
      "min    -6.782600e-02  ...       9.825000       0.000000      10.018000   \n",
      "25%    -1.414800e-02  ...      19.728000       0.014000      19.695000   \n",
      "50%    -1.089400e-02  ...      20.401000       0.022000      20.153000   \n",
      "75%    -1.022000e-02  ...      20.936000       0.033000      20.448000   \n",
      "max     3.340200e-02  ...      33.378000      55.970000      33.686000   \n",
      "\n",
      "              e_rmag           imag        e_imag           zmag  \\\n",
      "count  228394.000000  228393.000000  228393.00000  228392.000000   \n",
      "mean        0.036853      19.872068       0.04398      19.884957   \n",
      "std         0.199099       0.908291       0.24859       0.868205   \n",
      "min         0.000000      10.344000       0.00100      10.789000   \n",
      "25%         0.017000      19.662000       0.02300      19.602000   \n",
      "50%         0.024000      20.012000       0.03000      19.921000   \n",
      "75%         0.030000      20.257000       0.03700      20.251000   \n",
      "max        21.797000      32.838000      59.44100      30.887000   \n",
      "\n",
      "              e_zmag  SDSS_separation     SDSS_spec  \n",
      "count  228392.000000    228401.000000  1.280266e+06  \n",
      "mean        0.134978         0.066523 -2.098414e+09  \n",
      "std         0.376783         0.142047  3.208878e+08  \n",
      "min         0.003000         0.000061 -2.147484e+09  \n",
      "25%         0.073000         0.031083 -2.147484e+09  \n",
      "50%         0.099000         0.050522 -2.147484e+09  \n",
      "75%         0.136000         0.075734 -2.147484e+09  \n",
      "max        67.048000         2.994230  2.100000e+01  \n",
      "\n",
      "[8 rows x 156 columns]\n"
     ]
    }
   ],
   "source": [
    "# === 4. Convert to Pandas DataFrame ===\n",
    "df = table.to_pandas()\n",
    "print(\"Data loaded:\", df.shape)\n",
    "\n",
    "# === 5. Initial Exploration ===\n",
    "print(\"Available columns:\\n\", df.columns.tolist())\n",
    "print(df.describe())\n"
   ]
  },
  {
   "cell_type": "markdown",
   "id": "c1de53c2",
   "metadata": {},
   "source": [
    "###  Cross-match with SDSS DR16 spectroscopy"
   ]
  },
  {
   "cell_type": "code",
   "execution_count": 5,
   "id": "075e0bdc",
   "metadata": {},
   "outputs": [
    {
     "name": "stdout",
     "output_type": "stream",
     "text": [
      "['WDJ_name', 'source_id', 'dr2_source_id', 'WD_catalogue', 'ra', 'dec', 'parallax', 'parallax_error', 'Pwd', 'PHwd', 'phot_g_mean_mag', 'phot_g_mean_mag_error', 'phot_bp_mean_mag', 'phot_bp_mean_mag_error', 'phot_rp_mean_mag', 'phot_rp_mean_mag_error', 'teff_H', 'eteff_H', 'logg_H', 'elogg_H', 'mass_H', 'emass_H', 'chisq_H', 'teff_He', 'eteff_He', 'logg_He', 'elogg_He', 'mass_He', 'emass_He', 'chisq_He', 'teff_mixed', 'eteff_mixed', 'logg_mixed', 'elogg_mixed', 'mass_mixed', 'emass_mixed', 'chisq_mixed', 'SDSS12', 'sdss_clean', 'umag', 'e_umag', 'gmag', 'e_gmag', 'rmag', 'e_rmag', 'imag', 'e_imag', 'zmag', 'e_zmag', 'SDSS_separation', 'SDSS_spec', 'Plate', 'MJD', 'FiberID', 'S/N', 'spec_class']\n"
     ]
    },
    {
     "data": {
      "text/html": [
       "<div>\n",
       "<style scoped>\n",
       "    .dataframe tbody tr th:only-of-type {\n",
       "        vertical-align: middle;\n",
       "    }\n",
       "\n",
       "    .dataframe tbody tr th {\n",
       "        vertical-align: top;\n",
       "    }\n",
       "\n",
       "    .dataframe thead th {\n",
       "        text-align: right;\n",
       "    }\n",
       "</style>\n",
       "<table border=\"1\" class=\"dataframe\">\n",
       "  <thead>\n",
       "    <tr style=\"text-align: right;\">\n",
       "      <th></th>\n",
       "      <th>WDJ_name</th>\n",
       "      <th>source_id</th>\n",
       "      <th>dr2_source_id</th>\n",
       "      <th>WD_catalogue</th>\n",
       "      <th>ra</th>\n",
       "      <th>dec</th>\n",
       "      <th>parallax</th>\n",
       "      <th>parallax_error</th>\n",
       "      <th>Pwd</th>\n",
       "      <th>PHwd</th>\n",
       "      <th>...</th>\n",
       "      <th>e_imag</th>\n",
       "      <th>zmag</th>\n",
       "      <th>e_zmag</th>\n",
       "      <th>SDSS_separation</th>\n",
       "      <th>SDSS_spec</th>\n",
       "      <th>Plate</th>\n",
       "      <th>MJD</th>\n",
       "      <th>FiberID</th>\n",
       "      <th>S/N</th>\n",
       "      <th>spec_class</th>\n",
       "    </tr>\n",
       "  </thead>\n",
       "  <tbody>\n",
       "    <tr>\n",
       "      <th>0</th>\n",
       "      <td>WDJ121037.45+140644.34</td>\n",
       "      <td>3920930517021000064</td>\n",
       "      <td>3920930517021000064</td>\n",
       "      <td>M</td>\n",
       "      <td>182.655813</td>\n",
       "      <td>14.112347</td>\n",
       "      <td>7.545117</td>\n",
       "      <td>0.732332</td>\n",
       "      <td>0.98737</td>\n",
       "      <td>-32768</td>\n",
       "      <td>...</td>\n",
       "      <td>0.022</td>\n",
       "      <td>19.788</td>\n",
       "      <td>0.064</td>\n",
       "      <td>0.093603</td>\n",
       "      <td>1</td>\n",
       "      <td>5392</td>\n",
       "      <td>56010</td>\n",
       "      <td>288</td>\n",
       "      <td>7</td>\n",
       "      <td>pecDQ</td>\n",
       "    </tr>\n",
       "    <tr>\n",
       "      <th>1</th>\n",
       "      <td>WDJ133359.84+001655.03</td>\n",
       "      <td>3662951038644235776</td>\n",
       "      <td>3662951038644235776</td>\n",
       "      <td>M</td>\n",
       "      <td>203.497875</td>\n",
       "      <td>0.282887</td>\n",
       "      <td>24.453345</td>\n",
       "      <td>0.198643</td>\n",
       "      <td>1.00000</td>\n",
       "      <td>-32768</td>\n",
       "      <td>...</td>\n",
       "      <td>0.009</td>\n",
       "      <td>18.235</td>\n",
       "      <td>0.028</td>\n",
       "      <td>0.078416</td>\n",
       "      <td>2</td>\n",
       "      <td>298</td>\n",
       "      <td>51955</td>\n",
       "      <td>492</td>\n",
       "      <td>5</td>\n",
       "      <td>pecDQ</td>\n",
       "    </tr>\n",
       "    <tr>\n",
       "      <th>2</th>\n",
       "      <td>WDJ133359.84+001655.03</td>\n",
       "      <td>3662951038644235776</td>\n",
       "      <td>3662951038644235776</td>\n",
       "      <td>M</td>\n",
       "      <td>203.497875</td>\n",
       "      <td>0.282887</td>\n",
       "      <td>24.453345</td>\n",
       "      <td>0.198643</td>\n",
       "      <td>1.00000</td>\n",
       "      <td>-32768</td>\n",
       "      <td>...</td>\n",
       "      <td>0.009</td>\n",
       "      <td>18.235</td>\n",
       "      <td>0.028</td>\n",
       "      <td>0.078416</td>\n",
       "      <td>2</td>\n",
       "      <td>298</td>\n",
       "      <td>51662</td>\n",
       "      <td>484</td>\n",
       "      <td>4</td>\n",
       "      <td>pecDQ</td>\n",
       "    </tr>\n",
       "    <tr>\n",
       "      <th>3</th>\n",
       "      <td>WDJ101141.58+284559.07</td>\n",
       "      <td>740483560857296768</td>\n",
       "      <td>740483560857296768</td>\n",
       "      <td>M</td>\n",
       "      <td>152.922607</td>\n",
       "      <td>28.763239</td>\n",
       "      <td>67.879416</td>\n",
       "      <td>0.057067</td>\n",
       "      <td>1.00000</td>\n",
       "      <td>-32768</td>\n",
       "      <td>...</td>\n",
       "      <td>0.004</td>\n",
       "      <td>15.995</td>\n",
       "      <td>0.007</td>\n",
       "      <td>0.076985</td>\n",
       "      <td>2</td>\n",
       "      <td>3260</td>\n",
       "      <td>54883</td>\n",
       "      <td>332</td>\n",
       "      <td>1</td>\n",
       "      <td>pecDQ</td>\n",
       "    </tr>\n",
       "    <tr>\n",
       "      <th>4</th>\n",
       "      <td>WDJ101141.58+284559.07</td>\n",
       "      <td>740483560857296768</td>\n",
       "      <td>740483560857296768</td>\n",
       "      <td>M</td>\n",
       "      <td>152.922607</td>\n",
       "      <td>28.763239</td>\n",
       "      <td>67.879416</td>\n",
       "      <td>0.057067</td>\n",
       "      <td>1.00000</td>\n",
       "      <td>-32768</td>\n",
       "      <td>...</td>\n",
       "      <td>0.004</td>\n",
       "      <td>15.995</td>\n",
       "      <td>0.007</td>\n",
       "      <td>0.076985</td>\n",
       "      <td>2</td>\n",
       "      <td>2348</td>\n",
       "      <td>53757</td>\n",
       "      <td>500</td>\n",
       "      <td>8</td>\n",
       "      <td>pecDQ</td>\n",
       "    </tr>\n",
       "  </tbody>\n",
       "</table>\n",
       "<p>5 rows × 56 columns</p>\n",
       "</div>"
      ],
      "text/plain": [
       "                  WDJ_name            source_id        dr2_source_id  \\\n",
       "0  WDJ121037.45+140644.34   3920930517021000064  3920930517021000064   \n",
       "1  WDJ133359.84+001655.03   3662951038644235776  3662951038644235776   \n",
       "2  WDJ133359.84+001655.03   3662951038644235776  3662951038644235776   \n",
       "3  WDJ101141.58+284559.07    740483560857296768   740483560857296768   \n",
       "4  WDJ101141.58+284559.07    740483560857296768   740483560857296768   \n",
       "\n",
       "  WD_catalogue          ra        dec   parallax  parallax_error      Pwd  \\\n",
       "0            M  182.655813  14.112347   7.545117        0.732332  0.98737   \n",
       "1            M  203.497875   0.282887  24.453345        0.198643  1.00000   \n",
       "2            M  203.497875   0.282887  24.453345        0.198643  1.00000   \n",
       "3            M  152.922607  28.763239  67.879416        0.057067  1.00000   \n",
       "4            M  152.922607  28.763239  67.879416        0.057067  1.00000   \n",
       "\n",
       "    PHwd  ...  e_imag    zmag  e_zmag  SDSS_separation  SDSS_spec  Plate  \\\n",
       "0 -32768  ...   0.022  19.788   0.064         0.093603          1   5392   \n",
       "1 -32768  ...   0.009  18.235   0.028         0.078416          2    298   \n",
       "2 -32768  ...   0.009  18.235   0.028         0.078416          2    298   \n",
       "3 -32768  ...   0.004  15.995   0.007         0.076985          2   3260   \n",
       "4 -32768  ...   0.004  15.995   0.007         0.076985          2   2348   \n",
       "\n",
       "     MJD  FiberID  S/N  spec_class  \n",
       "0  56010      288    7      pecDQ   \n",
       "1  51955      492    5      pecDQ   \n",
       "2  51662      484    4      pecDQ   \n",
       "3  54883      332    1      pecDQ   \n",
       "4  53757      500    8      pecDQ   \n",
       "\n",
       "[5 rows x 56 columns]"
      ]
     },
     "execution_count": 5,
     "metadata": {},
     "output_type": "execute_result"
    }
   ],
   "source": [
    "\n",
    "# Replace with your actual path\n",
    "gentile_fits_path = 'gaiaedr3_wd_sdssspec.fits'\n",
    "\n",
    "with fits.open(gentile_fits_path) as hdul:\n",
    "    gentile_data = Table(hdul[1].data).to_pandas()\n",
    "\n",
    "print(gentile_data.columns.tolist())\n",
    "gentile_data.head()\n"
   ]
  },
  {
   "cell_type": "markdown",
   "id": "cc6cb0bb",
   "metadata": {},
   "source": [
    "### Visualizing data"
   ]
  },
  {
   "cell_type": "code",
   "execution_count": 10,
   "id": "5bb8389e",
   "metadata": {},
   "outputs": [],
   "source": [
    "# === 6. Select relevant columns for Hydrogen atmosphere model ===\n",
    "cols_H = ['teff_H', 'mass_H', 'logg_H','source_id','WDJ_name']\n",
    "df_H = df[cols_H].copy()\n",
    "df_H.dropna(inplace=True)"
   ]
  },
  {
   "cell_type": "code",
   "execution_count": 38,
   "id": "71f87797",
   "metadata": {},
   "outputs": [
    {
     "data": {
      "text/plain": [
       "0          WDJ235959.90+512337.51 \n",
       "2          WDJ235959.49-034703.60 \n",
       "3          WDJ235959.48+082813.10 \n",
       "5          WDJ235958.84-213149.25 \n",
       "6          WDJ235958.62+301622.51 \n",
       "                    ...           \n",
       "1280249    WDJ000002.89+230847.67 \n",
       "1280250    WDJ000002.86-631934.14 \n",
       "1280251    WDJ000002.54-173501.29 \n",
       "1280256    WDJ000001.78-423821.64 \n",
       "1280259    WDJ000001.68-502431.29 \n",
       "Name: WDJ_name, Length: 298317, dtype: object"
      ]
     },
     "execution_count": 38,
     "metadata": {},
     "output_type": "execute_result"
    }
   ],
   "source": [
    "df_H['WDJ_name']"
   ]
  },
  {
   "cell_type": "code",
   "execution_count": 12,
   "id": "d3d45c48",
   "metadata": {},
   "outputs": [
    {
     "name": "stderr",
     "output_type": "stream",
     "text": [
      "/var/folders/y8/6tlplz1d2w1dk6qd5rz9z4m80000gn/T/ipykernel_22663/2722116129.py:4: UserWarning: cmr10 font should ideally be used with mathtext, set axes.formatter.use_mathtext to True\n",
      "  plt.subplot(1, 3, 1)\n",
      "/var/folders/y8/6tlplz1d2w1dk6qd5rz9z4m80000gn/T/ipykernel_22663/2722116129.py:9: UserWarning: cmr10 font should ideally be used with mathtext, set axes.formatter.use_mathtext to True\n",
      "  plt.subplot(1, 3, 2)\n",
      "/var/folders/y8/6tlplz1d2w1dk6qd5rz9z4m80000gn/T/ipykernel_22663/2722116129.py:14: UserWarning: cmr10 font should ideally be used with mathtext, set axes.formatter.use_mathtext to True\n",
      "  plt.subplot(1, 3, 3)\n",
      "/var/folders/y8/6tlplz1d2w1dk6qd5rz9z4m80000gn/T/ipykernel_22663/2722116129.py:19: UserWarning: Glyph 9737 (\\N{SUN}) missing from font(s) cmr10.\n",
      "  plt.tight_layout()\n",
      "/Users/ramirezmaura/.venv/lib/python3.12/site-packages/IPython/core/pylabtools.py:170: UserWarning: Glyph 9737 (\\N{SUN}) missing from font(s) cmr10.\n",
      "  fig.canvas.print_figure(bytes_io, **kw)\n"
     ]
    },
    {
     "data": {
      "image/png": "[encoded data removed]",
      "text/plain": [
       "<Figure size 1500x400 with 3 Axes>"
      ]
     },
     "metadata": {},
     "output_type": "display_data"
    }
   ],
   "source": [
    "\n",
    "# === 7. Visualization ===\n",
    "plt.figure(figsize=(15, 4))\n",
    "\n",
    "plt.subplot(1, 3, 1)\n",
    "np.log10(df_H['teff_H']).hist(bins=50)\n",
    "plt.xlabel('Teff [K]')\n",
    "plt.title('Effective Temperature (H)')\n",
    "\n",
    "plt.subplot(1, 3, 2)\n",
    "df_H['mass_H'].hist(bins=50)\n",
    "plt.xlabel('Mass [M☉]')\n",
    "plt.title('Mass Distribution (H)')\n",
    "\n",
    "plt.subplot(1, 3, 3)\n",
    "df_H['logg_H'].hist(bins=50)\n",
    "plt.xlabel('log(g)')\n",
    "plt.title('log(g) Distribution (H)')\n",
    "\n",
    "plt.tight_layout()\n",
    "plt.show()\n",
    "\n"
   ]
  },
  {
   "cell_type": "markdown",
   "id": "8672346b",
   "metadata": {},
   "source": [
    "## Filltering of data"
   ]
  },
  {
   "cell_type": "code",
   "execution_count": 13,
   "id": "bec7c39a",
   "metadata": {},
   "outputs": [
    {
     "name": "stdout",
     "output_type": "stream",
     "text": [
      "\n",
      "Number of stars within 25 pc: 2151\n",
      "Number of close stars with full physical parameters: 2119\n"
     ]
    }
   ],
   "source": [
    "# === 8. Filter stars within 13 parsecs (as used in the 2025 paper) ===\n",
    "df_close = df[df['r_med_geo'] <= 50].copy()\n",
    "print(f\"\\nNumber of stars within 25 pc: {df_close.shape[0]}\")\n",
    "\n",
    "# Apply the same selection for valid Hydrogen atmosphere models\n",
    "df_close_H = df_close[['teff_H', 'mass_H', 'logg_H', 'r_med_geo']].copy()\n",
    "df_close_H.dropna(inplace=True)\n",
    "print(f\"Number of close stars with full physical parameters: {df_close_H.shape[0]}\")"
   ]
  },
  {
   "cell_type": "code",
   "execution_count": 14,
   "id": "a56f98ca",
   "metadata": {},
   "outputs": [
    {
     "name": "stderr",
     "output_type": "stream",
     "text": [
      "/var/folders/y8/6tlplz1d2w1dk6qd5rz9z4m80000gn/T/ipykernel_22663/2740318769.py:4: UserWarning: cmr10 font should ideally be used with mathtext, set axes.formatter.use_mathtext to True\n",
      "  plt.subplot(1, 3, 1)\n",
      "/var/folders/y8/6tlplz1d2w1dk6qd5rz9z4m80000gn/T/ipykernel_22663/2740318769.py:9: UserWarning: cmr10 font should ideally be used with mathtext, set axes.formatter.use_mathtext to True\n",
      "  plt.subplot(1, 3, 2)\n",
      "/var/folders/y8/6tlplz1d2w1dk6qd5rz9z4m80000gn/T/ipykernel_22663/2740318769.py:14: UserWarning: cmr10 font should ideally be used with mathtext, set axes.formatter.use_mathtext to True\n",
      "  plt.subplot(1, 3, 3)\n",
      "/var/folders/y8/6tlplz1d2w1dk6qd5rz9z4m80000gn/T/ipykernel_22663/2740318769.py:19: UserWarning: Glyph 9737 (\\N{SUN}) missing from font(s) cmr10.\n",
      "  plt.tight_layout()\n",
      "/Users/ramirezmaura/.venv/lib/python3.12/site-packages/IPython/core/pylabtools.py:170: UserWarning: Glyph 9737 (\\N{SUN}) missing from font(s) cmr10.\n",
      "  fig.canvas.print_figure(bytes_io, **kw)\n"
     ]
    },
    {
     "data": {
      "image/png": "[encoded data removed]",
      "text/plain": [
       "<Figure size 1500x400 with 3 Axes>"
      ]
     },
     "metadata": {},
     "output_type": "display_data"
    }
   ],
   "source": [
    "\n",
    "# === 9. Visualization ===\n",
    "plt.figure(figsize=(15, 4))\n",
    "\n",
    "plt.subplot(1, 3, 1)\n",
    "np.log10(df_close['teff_H']).hist(bins=50)\n",
    "plt.xlabel('Teff [K]')\n",
    "plt.title('Effective Temperature (H)')\n",
    "\n",
    "plt.subplot(1, 3, 2)\n",
    "df_close['mass_H'].hist(bins=50)\n",
    "plt.xlabel('Mass [M☉]')\n",
    "plt.title('Mass Distribution (H)')\n",
    "\n",
    "plt.subplot(1, 3, 3)\n",
    "df_close['logg_H'].hist(bins=50)\n",
    "plt.xlabel('log(g)')\n",
    "plt.title('log(g) Distribution (H)')\n",
    "\n",
    "plt.tight_layout()\n",
    "plt.show()\n"
   ]
  },
  {
   "cell_type": "markdown",
   "id": "e51fb5ac",
   "metadata": {},
   "source": [
    "### Checking Magnetic and binary WDs"
   ]
  },
  {
   "cell_type": "code",
   "execution_count": 15,
   "id": "b3e23840",
   "metadata": {},
   "outputs": [
    {
     "name": "stdout",
     "output_type": "stream",
     "text": [
      "Non-magnetic WDs found: 41681\n"
     ]
    }
   ],
   "source": [
    "# Exclude all spectral types that either:\n",
    "# (1) contain an 'H' anywhere in the class name (e.g., DAH, DBH, etc.)\n",
    "# (2) are explicitly labeled as 'MWD'\n",
    "gentile_data['spec_class'] = gentile_data['spec_class'].astype(str).str.upper()\n",
    "\n",
    "magnetic_mask = gentile_data['spec_class'].str.upper().str.contains('H', na=False) | \\\n",
    "                (gentile_data['spec_class'] == 'MWD')\n",
    "\n",
    "non_magnetic_stars = gentile_data[~magnetic_mask]\n",
    "\n",
    "print(f\"Non-magnetic WDs found: {non_magnetic_stars.shape[0]}\")\n"
   ]
  },
  {
   "cell_type": "code",
   "execution_count": 16,
   "id": "d7f01546",
   "metadata": {},
   "outputs": [],
   "source": [
    "# Ensure spec_class is uppercase and valid string\n",
    "gentile_data['spec_class'] = gentile_data['spec_class'].astype(str).str.upper()\n",
    "\n",
    "# Step 1: Flag all magnetic WDs\n",
    "magnetic_mask = gentile_data['spec_class'].str.contains('H', na=False) | \\\n",
    "                (gentile_data['spec_class'] == 'MWD')\n",
    "magnetic_stars = gentile_data[magnetic_mask].copy()\n",
    "\n",
    "# Step 2: Mark magnetic stars in df_close\n",
    "df_close = df_close.copy()\n",
    "df_close['source_id'] = df_close['source_id'].astype(np.int64)\n",
    "magnetic_stars['source_id'] = magnetic_stars['source_id'].astype(np.int64)\n",
    "df_close['is_magnetic'] = df_close['source_id'].isin(magnetic_stars['source_id'])\n"
   ]
  },
  {
   "cell_type": "markdown",
   "id": "e36e21a6",
   "metadata": {},
   "source": [
    "### Checking WDs with companion"
   ]
  },
  {
   "cell_type": "code",
   "execution_count": 17,
   "id": "effab0ae",
   "metadata": {},
   "outputs": [],
   "source": [
    "# Step 3: Mark isolated WDs\n",
    "binary_classes = [\n",
    "    'DA_MS', 'DA_MS:', 'DB_MS', 'DC_MS',\n",
    "    'CV', 'DA_DQ', 'DBAH', 'DABZ', 'DBAZ', 'DZAB', 'DZBA', 'DZB'\n",
    "]\n",
    "isolated_stars = gentile_data[~gentile_data['spec_class'].isin(binary_classes)].copy()\n",
    "isolated_stars['source_id'] = isolated_stars['source_id'].astype(np.int64)\n",
    "df_close['is_isolated'] = df_close['source_id'].isin(isolated_stars['source_id'])\n"
   ]
  },
  {
   "cell_type": "code",
   "execution_count": 18,
   "id": "1b7fc392",
   "metadata": {},
   "outputs": [
    {
     "name": "stdout",
     "output_type": "stream",
     "text": [
      "Non-magnetic, isolated WDs with full physical parameters: 151\n"
     ]
    }
   ],
   "source": [
    "\n",
    "# Step 4: Combine both filters\n",
    "df_clean = df_close[(df_close['is_magnetic'] == False) & (df_close['is_isolated'] == True)]\n",
    "\n",
    "# Step 5: Final physical subset\n",
    "df_clean_H = df_clean[['source_id','teff_H', 'mass_H', 'logg_H', 'r_med_geo']].dropna().copy()\n",
    "\n",
    "print(f\"Non-magnetic, isolated WDs with full physical parameters: {df_clean_H.shape[0]}\")\n"
   ]
  },
  {
   "cell_type": "code",
   "execution_count": 19,
   "id": "2ec6a558",
   "metadata": {},
   "outputs": [
    {
     "name": "stdout",
     "output_type": "stream",
     "text": [
      "Spectral types in the final filtered sample:\n",
      "spec_class\n",
      "DA        118\n",
      "DC         32\n",
      "DQ         13\n",
      "DZ          9\n",
      "UNRELI      7\n",
      "MWD         6\n",
      "PECDQ       3\n",
      "WD          2\n",
      "DC_MS       2\n",
      "DAZ         2\n",
      "WDPEC       2\n",
      "UNKN        1\n",
      "DZA         1\n",
      "STAR        1\n",
      "Name: count, dtype: int64\n"
     ]
    }
   ],
   "source": [
    "# Check final spec_class labels in the 7 surviving WDs\n",
    "merged_check = df_clean_H.merge(\n",
    "    gentile_data[['source_id', 'spec_class']],\n",
    "    on='source_id',\n",
    "    how='left'\n",
    ")\n",
    "\n",
    "print(\"Spectral types in the final filtered sample:\")\n",
    "print(merged_check['spec_class'].value_counts())"
   ]
  },
  {
   "cell_type": "code",
   "execution_count": 31,
   "id": "08ed2019",
   "metadata": {},
   "outputs": [
    {
     "name": "stdout",
     "output_type": "stream",
     "text": [
      "               source_id     teff_H    mass_H    logg_H  r_med_geo spec_class\n",
      "0    2645480299903701504   6558.208  0.723417  8.211992  45.277195     DA    \n",
      "1    1884744525522874880   5635.304  0.428488  7.678237  19.977541     DA    \n",
      "2    2836609093355562496  10533.870  1.020744  8.661232  17.817511     DA    \n",
      "3    2836609093355562496  10533.870  1.020744  8.661232  17.817511     DA    \n",
      "4    1888836972229230976   6046.962  0.745623  8.248495  46.776775     UNRELI\n",
      "..                   ...        ...       ...       ...        ...        ...\n",
      "194  2545505281002947200   9528.395  0.591750  7.987608  39.920338     DA    \n",
      "195  2545505281002947200   9528.395  0.591750  7.987608  39.920338     DA    \n",
      "196  2545505281002947200   9528.395  0.591750  7.987608  39.920338     DA    \n",
      "197  2545505281002947200   9528.395  0.591750  7.987608  39.920338     DA    \n",
      "198  2447889401738675072   6970.092  0.555713  7.938805  46.921658     DA    \n",
      "\n",
      "[199 rows x 6 columns]\n"
     ]
    }
   ],
   "source": [
    "# Merge spec_class to include spectral type\n",
    "final_sample = df_clean_H.merge(\n",
    "    gentile_data[['source_id', 'spec_class']],\n",
    "    on='source_id',\n",
    "    how='left'\n",
    ")\n",
    "\n",
    "# Set full display for all columns\n",
    "with pd.option_context('display.max_columns', None):\n",
    "    print(final_sample)\n"
   ]
  },
  {
   "cell_type": "markdown",
   "id": "21033316",
   "metadata": {},
   "source": [
    "## Radius calculation"
   ]
  },
  {
   "cell_type": "code",
   "execution_count": 32,
   "id": "73389b90",
   "metadata": {
    "vscode": {
     "languageId": "ruby"
    }
   },
   "outputs": [
    {
     "name": "stdout",
     "output_type": "stream",
     "text": [
      "               source_id     teff_H    mass_H    logg_H  radius_earth  \\\n",
      "0    2645480299903701504   6558.208  0.723417  8.211992      1.203565   \n",
      "1    1884744525522874880   5635.304  0.428488  7.678237      1.712466   \n",
      "2    2836609093355562496  10533.870  1.020744  8.661232      0.852341   \n",
      "3    2836609093355562496  10533.870  1.020744  8.661232      0.852341   \n",
      "4    1888836972229230976   6046.962  0.745623  8.248495      1.171611   \n",
      "..                   ...        ...       ...       ...           ...   \n",
      "194  2545505281002947200   9528.395  0.591750  7.987608      1.409407   \n",
      "195  2545505281002947200   9528.395  0.591750  7.987608      1.409407   \n",
      "196  2545505281002947200   9528.395  0.591750  7.987608      1.409407   \n",
      "197  2545505281002947200   9528.395  0.591750  7.987608      1.409407   \n",
      "198  2447889401738675072   6970.092  0.555713  7.938805      1.444754   \n",
      "\n",
      "    spec_class  \n",
      "0       DA      \n",
      "1       DA      \n",
      "2       DA      \n",
      "3       DA      \n",
      "4       UNRELI  \n",
      "..         ...  \n",
      "194     DA      \n",
      "195     DA      \n",
      "196     DA      \n",
      "197     DA      \n",
      "198     DA      \n",
      "\n",
      "[199 rows x 6 columns]\n"
     ]
    }
   ],
   "source": [
    "# === Physical constants ===\n",
    "G_cgs = cs.G_cgs      # cm^3 g^-1 s^-2\n",
    "M_sun_g = cs.M_sun_g     # g\n",
    "R_earth_cm = cs.R_earth_cm    # cm\n",
    "\n",
    "# === Compute surface gravity and mass in CGS units ===\n",
    "final_sample['g_cgs'] = 10 ** final_sample['logg_H']\n",
    "final_sample['mass_g'] = final_sample['mass_H'] * M_sun_g\n",
    "\n",
    "# === Compute radius in cm ===\n",
    "final_sample['radius_cm'] = np.sqrt(G_cgs * final_sample['mass_g'] / final_sample['g_cgs'])\n",
    "\n",
    "# === Convert radius to Earth radii ===\n",
    "final_sample['radius_earth'] = final_sample['radius_cm'] / R_earth_cm\n",
    "\n",
    "# === Display result ===\n",
    "with pd.option_context('display.max_columns', None):\n",
    "    print(final_sample[['source_id', 'teff_H', 'mass_H', 'logg_H', 'radius_earth', 'spec_class']])\n",
    "\n"
   ]
  },
  {
   "cell_type": "code",
   "execution_count": 106,
   "id": "8aa4e38a",
   "metadata": {},
   "outputs": [
    {
     "name": "stderr",
     "output_type": "stream",
     "text": [
      "/var/folders/y8/6tlplz1d2w1dk6qd5rz9z4m80000gn/T/ipykernel_19341/3032666869.py:3: UserWarning: cmr10 font should ideally be used with mathtext, set axes.formatter.use_mathtext to True\n",
      "  fig, ax = plt.subplots(figsize=(6, 5))\n"
     ]
    },
    {
     "data": {
      "image/png": "[encoded data removed]",
      "text/plain": [
       "<Figure size 600x500 with 1 Axes>"
      ]
     },
     "metadata": {},
     "output_type": "display_data"
    }
   ],
   "source": [
    "# === Mass vs Radius plot for filtered WDs ===\n",
    "\n",
    "fig, ax = plt.subplots(figsize=(6, 5))\n",
    "\n",
    "ax.scatter(\n",
    "    final_sample['radius_earth'],\n",
    "    final_sample['mass_H'],\n",
    "    s=35,\n",
    "    edgecolor=None,\n",
    "    alpha=0.85\n",
    ")\n",
    "\n",
    "plts.apply_standard_formatting(\n",
    "    ax,\n",
    "    xlog=False,\n",
    "    ylog=False,\n",
    "    xlabel=r'Mass [M$_\\odot$]',\n",
    "    ylabel=r'Radius [R$_\\oplus$]',\n",
    "    title=r'WD Radius vs Mass ($d \\leq 25$ pc)'\n",
    ")\n",
    "\n",
    "plt.tight_layout()\n",
    "plt.show()\n",
    "\n",
    "\n"
   ]
  },
  {
   "cell_type": "code",
   "execution_count": 39,
   "id": "52d41ab6",
   "metadata": {},
   "outputs": [],
   "source": [
    "# Filter: masses > 0.8 M_sun\n",
    "massive_wds = final_sample[final_sample['mass_H'] > 0.8]\n",
    "\n",
    "# Sort by effective temperature ascending (coldest first)\n",
    "coldest_massive_wds = massive_wds.sort_values(by='teff_H', ascending=True)\n",
    "\n",
    "# Take the 10 coldest\n",
    "top10_coldest_massive = coldest_massive_wds.head(5)\n"
   ]
  },
  {
   "cell_type": "code",
   "execution_count": null,
   "id": "d1133e55",
   "metadata": {},
   "outputs": [],
   "source": []
  },
  {
   "cell_type": "code",
   "execution_count": 36,
   "id": "bed5462a",
   "metadata": {},
   "outputs": [],
   "source": [
    "columns_to_save = [\n",
    "    'source_id', 'teff_H', 'mass_H', 'logg_H', 'radius_earth', 'spec_class'\n",
    "]\n",
    "\n",
    "coolest_wds_export = top10_coldest_massive[columns_to_save]\n"
   ]
  },
  {
   "cell_type": "code",
   "execution_count": 37,
   "id": "e62f9720",
   "metadata": {},
   "outputs": [],
   "source": [
    "coolest_wds_export.to_csv(\n",
    "    'coolest_wds_profiles.dat',\n",
    "    sep=' ',  # también puedes usar '\\t' para tabulado\n",
    "    index=False,\n",
    "    float_format='%.6e'  # formato científico con 6 decimales\n",
    ")\n"
   ]
  },
  {
   "cell_type": "markdown",
   "id": "5d58fcfc",
   "metadata": {},
   "source": [
    "## WD Luminosity"
   ]
  },
  {
   "cell_type": "code",
   "execution_count": 54,
   "id": "9b021371",
   "metadata": {},
   "outputs": [],
   "source": [
    "# Compute radius in cm\n",
    "final_sample['radius_cm'] = final_sample['radius_earth'] * cs.R_earth_cm  # 1 R⊕ in cm\n",
    "\n",
    "# Compute luminosity in erg/s\n",
    "final_sample['luminosity_erg'] = 4 * np.pi * (final_sample['radius_cm'] ** 2) * cs.sigma_sb * (final_sample['teff_H'] ** 4)"
   ]
  },
  {
   "cell_type": "code",
   "execution_count": 55,
   "id": "102d8fd6",
   "metadata": {},
   "outputs": [],
   "source": [
    "final_sample = final_sample.merge(\n",
    "    df_H[['source_id', 'WDJ_name']],\n",
    "    on='source_id',\n",
    "    how='left'\n",
    ")\n"
   ]
  },
  {
   "cell_type": "code",
   "execution_count": 77,
   "id": "47d9d826",
   "metadata": {},
   "outputs": [],
   "source": [
    "# Filter WDs with mass > 0.8 Msun\n",
    "massive_wds = final_sample[(final_sample['mass_H'] > 0.8) &\n",
    "                           (final_sample['spec_class'].str.strip() == 'DA')]\n",
    "# Sort by Teff ascending (coolest first), then by mass descending (most massive first)\n",
    "final_sample_sorted = massive_wds.sort_values(\n",
    "    by=['teff_H', 'mass_H'],\n",
    "    ascending=[True, False]  # True = lowest Teff first, False = highest mass first\n",
    ").reset_index(drop=True)\n"
   ]
  },
  {
   "cell_type": "code",
   "execution_count": 43,
   "id": "9f87500a",
   "metadata": {},
   "outputs": [
    {
     "name": "stderr",
     "output_type": "stream",
     "text": [
      "/var/folders/y8/6tlplz1d2w1dk6qd5rz9z4m80000gn/T/ipykernel_22663/4193362787.py:3: UserWarning: cmr10 font should ideally be used with mathtext, set axes.formatter.use_mathtext to True\n",
      "  fig, ax = plt.subplots(figsize=(7, 5))\n",
      "/var/folders/y8/6tlplz1d2w1dk6qd5rz9z4m80000gn/T/ipykernel_22663/4193362787.py:24: UserWarning: cmr10 font should ideally be used with mathtext, set axes.formatter.use_mathtext to True\n",
      "  cbar = plt.colorbar(scatter, ax=ax, pad=0.02, shrink=0.9)\n"
     ]
    },
    {
     "data": {
      "image/png": "[encoded data removed]",
      "text/plain": [
       "<Figure size 700x500 with 2 Axes>"
      ]
     },
     "metadata": {},
     "output_type": "display_data"
    }
   ],
   "source": [
    "# === Diagnostic plots for WDs within 25 pc ===\n",
    "\n",
    "fig, ax = plt.subplots(figsize=(7, 5))\n",
    "\n",
    "scatter = ax.scatter(\n",
    "    final_sample['teff_H'],\n",
    "    final_sample['luminosity_erg'],\n",
    "    c=final_sample['mass_H'],\n",
    "    cmap='plasma',\n",
    "    s=35,\n",
    "    edgecolor=None,\n",
    "    alpha=0.85\n",
    ")\n",
    "\n",
    "plts.apply_standard_formatting(\n",
    "    ax,\n",
    "    xlog=False,\n",
    "    ylog=True,\n",
    "    xlabel=r'$T_\\mathrm{eff}$ [K]',\n",
    "    ylabel=r'Luminosity [L$_\\odot$]',\n",
    "    title=r'WD Luminosity vs $T_{\\mathrm{eff}}$ ($d \\leq 50$ pc)'\n",
    ")\n",
    "\n",
    "cbar = plt.colorbar(scatter, ax=ax, pad=0.02, shrink=0.9)\n",
    "cbar.ax.tick_params(labelsize=12, width=1.2, length=5)\n",
    "cbar.set_label(r'Mass [M$_\\odot$]', fontsize=16)\n",
    "\n",
    "plt.tight_layout()\n",
    "\n",
    "plt.show()"
   ]
  },
  {
   "cell_type": "markdown",
   "id": "cfc95848",
   "metadata": {},
   "source": [
    "## WD age & $T_c$: Cooling models"
   ]
  },
  {
   "cell_type": "markdown",
   "id": "9913337c",
   "metadata": {},
   "source": [
    "### WD central pressure & density"
   ]
  },
  {
   "cell_type": "code",
   "execution_count": 48,
   "id": "68331cf2",
   "metadata": {},
   "outputs": [],
   "source": [
    "# Step 1: Extract core values from WD profile files\n",
    "df_core = cc.extract_core_values_from_profiles(\"Profiles\")\n"
   ]
  },
  {
   "cell_type": "code",
   "execution_count": 50,
   "id": "224b3171",
   "metadata": {},
   "outputs": [],
   "source": [
    "\n",
    "# Step 2: Load your main WD catalog\n",
    "df_coolest = pd.read_csv(\"Profiles/coolest_wds_profiles.dat\", sep=\" \")"
   ]
  },
  {
   "cell_type": "code",
   "execution_count": 52,
   "id": "b06d9a9c",
   "metadata": {},
   "outputs": [],
   "source": [
    "\n",
    "# Step 3: Merge both by nearest mass match\n",
    "df_final = cc.merge_with_tolerant_mass(df_coolest, df_core, mass_col=\"mass_Msun\")"
   ]
  },
  {
   "cell_type": "code",
   "execution_count": 142,
   "id": "2ba07d23",
   "metadata": {},
   "outputs": [],
   "source": [
    "\n",
    "# Step 4: Save the updated catalog with central values\n",
    "df_final.to_csv(\"Profiles/coolest_wds_profiles_with_core.dat\", sep=\"\\t\", index=False)\n"
   ]
  },
  {
   "cell_type": "markdown",
   "id": "52151093",
   "metadata": {},
   "source": [
    "### WD central temperature & age"
   ]
  },
  {
   "cell_type": "code",
   "execution_count": 3,
   "id": "773561c0",
   "metadata": {},
   "outputs": [],
   "source": [
    "\n",
    "# Load your file with the WD parameters\n",
    "df_coolest = pd.read_csv(\"Profiles/coolest_wds_profiles_with_core.dat\", sep=\"\\t\")"
   ]
  },
  {
   "cell_type": "code",
   "execution_count": 4,
   "id": "6afee7bd",
   "metadata": {},
   "outputs": [],
   "source": [
    "# Create empty columns to store results\n",
    "df_coolest[\"logTc\"] = None\n",
    "df_coolest[\"Tc_K\"] = None\n",
    "df_coolest[\"Age_Gyr\"] = None\n",
    "df_coolest[\"interp_from\"] = None\n",
    "df_coolest[\"interp_to\"] = None"
   ]
  },
  {
   "cell_type": "code",
   "execution_count": 5,
   "id": "d9c3274c",
   "metadata": {},
   "outputs": [],
   "source": [
    "\n",
    "# Loop through each row and apply your interpolation function\n",
    "for idx, row in df_coolest.iterrows():\n",
    "    interp_model, f1, f2 = cc.interpolate_model_between_masses(\n",
    "        folder=\"AllSequences\",\n",
    "        tipo_espectral=\"DA\",\n",
    "        target_mass=row[\"mass_Msun\"],\n",
    "        tolerance=0.03,\n",
    "        Teff=row[\"teff_K\"],\n",
    "        logg=row[\"log(g)\"],\n",
    "        logPc= np.log(row[\"P_c\"]), \n",
    "        #logRho_c=np.log10(row[\"rho_c\"])\n",
    "    )\n",
    "\n",
    "    if interp_model:\n",
    "        df_coolest.at[idx, \"logTc\"] = interp_model[\"logTc\"]\n",
    "        df_coolest.at[idx, \"Tc_K\"] = 10**interp_model[\"logTc\"]\n",
    "        df_coolest.at[idx, \"Age_Gyr\"] = interp_model[\"Age_s\"] / 1e9\n",
    "        # df_coolest.at[idx, \"interp_from\"] = f1\n",
    "        # df_coolest.at[idx, \"interp_to\"] = f2\n",
    "\n",
    "# Save result\n",
    "#df.to_csv(\"coolest_wds_profiles_with_all_outputs.dat\", sep=\"\\t\", index=False)\n"
   ]
  },
  {
   "cell_type": "code",
   "execution_count": 152,
   "id": "6e7b29ad",
   "metadata": {},
   "outputs": [],
   "source": [
    "# Save result\n",
    "df_coolest.to_csv(\"Profiles/coolest_wds_profiles_with_all_outputs.dat\", sep=\" \", index=False)"
   ]
  }
 ],
 "metadata": {
  "kernelspec": {
   "display_name": ".venv",
   "language": "python",
   "name": "python3"
  },
  "language_info": {
   "codemirror_mode": {
    "name": "ipython",
    "version": 3
   },
   "file_extension": ".py",
   "mimetype": "text/x-python",
   "name": "python",
   "nbconvert_exporter": "python",
   "pygments_lexer": "ipython3",
   "version": "3.12.8"
  }
 },
 "nbformat": 4,
 "nbformat_minor": 5
}
